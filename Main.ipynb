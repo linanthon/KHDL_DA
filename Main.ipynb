{
 "cells": [
  {
   "cell_type": "code",
   "execution_count": 1,
   "metadata": {},
   "outputs": [],
   "source": [
    "import matplotlib.pyplot as plt\n",
    "import seaborn as sns\n",
    "import pandas as pd\n",
    "import numpy as np\n",
    "\n",
    "from sklearn.model_selection import train_test_split\n",
    "from sklearn.preprocessing import OneHotEncoder, StandardScaler\n",
    "from sklearn.impute import SimpleImputer\n",
    "from sklearn.base import BaseEstimator, TransformerMixin\n",
    "from sklearn.pipeline import Pipeline, make_pipeline\n",
    "from sklearn.compose import ColumnTransformer, make_column_transformer\n",
    "from sklearn.metrics import r2_score\n",
    "%matplotlib inline"
   ]
  },
  {
   "cell_type": "code",
   "execution_count": 2,
   "metadata": {},
   "outputs": [
    {
     "data": {
      "text/html": [
       "<div>\n",
       "<style scoped>\n",
       "    .dataframe tbody tr th:only-of-type {\n",
       "        vertical-align: middle;\n",
       "    }\n",
       "\n",
       "    .dataframe tbody tr th {\n",
       "        vertical-align: top;\n",
       "    }\n",
       "\n",
       "    .dataframe thead th {\n",
       "        text-align: right;\n",
       "    }\n",
       "</style>\n",
       "<table border=\"1\" class=\"dataframe\">\n",
       "  <thead>\n",
       "    <tr style=\"text-align: right;\">\n",
       "      <th></th>\n",
       "      <th>name</th>\n",
       "      <th>pos</th>\n",
       "      <th>age</th>\n",
       "      <th>team</th>\n",
       "      <th>game</th>\n",
       "      <th>gs</th>\n",
       "      <th>mp</th>\n",
       "      <th>fg</th>\n",
       "      <th>fga</th>\n",
       "      <th>fgp</th>\n",
       "      <th>...</th>\n",
       "      <th>orb</th>\n",
       "      <th>drb</th>\n",
       "      <th>trb</th>\n",
       "      <th>ast</th>\n",
       "      <th>stl</th>\n",
       "      <th>blk</th>\n",
       "      <th>tov</th>\n",
       "      <th>pf</th>\n",
       "      <th>pts</th>\n",
       "      <th>salary</th>\n",
       "    </tr>\n",
       "  </thead>\n",
       "  <tbody>\n",
       "    <tr>\n",
       "      <td>0</td>\n",
       "      <td>Jaylen Adams</td>\n",
       "      <td>PG</td>\n",
       "      <td>22</td>\n",
       "      <td>ATL</td>\n",
       "      <td>34</td>\n",
       "      <td>1</td>\n",
       "      <td>12.6</td>\n",
       "      <td>1.1</td>\n",
       "      <td>3.2</td>\n",
       "      <td>0.345</td>\n",
       "      <td>...</td>\n",
       "      <td>0.3</td>\n",
       "      <td>1.4</td>\n",
       "      <td>1.8</td>\n",
       "      <td>1.9</td>\n",
       "      <td>0.4</td>\n",
       "      <td>0.1</td>\n",
       "      <td>0.8</td>\n",
       "      <td>1.3</td>\n",
       "      <td>3.2</td>\n",
       "      <td>100.000</td>\n",
       "    </tr>\n",
       "    <tr>\n",
       "      <td>1</td>\n",
       "      <td>Steven Adams</td>\n",
       "      <td>C</td>\n",
       "      <td>25</td>\n",
       "      <td>OKC</td>\n",
       "      <td>80</td>\n",
       "      <td>80</td>\n",
       "      <td>33.4</td>\n",
       "      <td>6.0</td>\n",
       "      <td>10.1</td>\n",
       "      <td>0.595</td>\n",
       "      <td>...</td>\n",
       "      <td>4.9</td>\n",
       "      <td>4.6</td>\n",
       "      <td>9.5</td>\n",
       "      <td>1.6</td>\n",
       "      <td>1.5</td>\n",
       "      <td>1.0</td>\n",
       "      <td>1.7</td>\n",
       "      <td>2.6</td>\n",
       "      <td>13.9</td>\n",
       "      <td>25842.697</td>\n",
       "    </tr>\n",
       "    <tr>\n",
       "      <td>2</td>\n",
       "      <td>Bam Adebayo</td>\n",
       "      <td>C</td>\n",
       "      <td>21</td>\n",
       "      <td>MIA</td>\n",
       "      <td>82</td>\n",
       "      <td>28</td>\n",
       "      <td>23.3</td>\n",
       "      <td>3.4</td>\n",
       "      <td>5.9</td>\n",
       "      <td>0.576</td>\n",
       "      <td>...</td>\n",
       "      <td>2.0</td>\n",
       "      <td>5.3</td>\n",
       "      <td>7.3</td>\n",
       "      <td>2.2</td>\n",
       "      <td>0.9</td>\n",
       "      <td>0.8</td>\n",
       "      <td>1.5</td>\n",
       "      <td>2.5</td>\n",
       "      <td>8.9</td>\n",
       "      <td>3454.080</td>\n",
       "    </tr>\n",
       "    <tr>\n",
       "      <td>3</td>\n",
       "      <td>LaMarcus Aldridge</td>\n",
       "      <td>C</td>\n",
       "      <td>33</td>\n",
       "      <td>SAS</td>\n",
       "      <td>81</td>\n",
       "      <td>81</td>\n",
       "      <td>33.2</td>\n",
       "      <td>8.4</td>\n",
       "      <td>16.3</td>\n",
       "      <td>0.519</td>\n",
       "      <td>...</td>\n",
       "      <td>3.1</td>\n",
       "      <td>6.1</td>\n",
       "      <td>9.2</td>\n",
       "      <td>2.4</td>\n",
       "      <td>0.5</td>\n",
       "      <td>1.3</td>\n",
       "      <td>1.8</td>\n",
       "      <td>2.2</td>\n",
       "      <td>21.3</td>\n",
       "      <td>26000.000</td>\n",
       "    </tr>\n",
       "    <tr>\n",
       "      <td>4</td>\n",
       "      <td>Grayson Allen</td>\n",
       "      <td>SG</td>\n",
       "      <td>23</td>\n",
       "      <td>UTA</td>\n",
       "      <td>38</td>\n",
       "      <td>2</td>\n",
       "      <td>10.9</td>\n",
       "      <td>1.8</td>\n",
       "      <td>4.7</td>\n",
       "      <td>0.376</td>\n",
       "      <td>...</td>\n",
       "      <td>0.1</td>\n",
       "      <td>0.5</td>\n",
       "      <td>0.6</td>\n",
       "      <td>0.7</td>\n",
       "      <td>0.2</td>\n",
       "      <td>0.2</td>\n",
       "      <td>0.9</td>\n",
       "      <td>1.2</td>\n",
       "      <td>5.6</td>\n",
       "      <td>2429.400</td>\n",
       "    </tr>\n",
       "  </tbody>\n",
       "</table>\n",
       "<p>5 rows × 30 columns</p>\n",
       "</div>"
      ],
      "text/plain": [
       "                name pos  age team  game  gs    mp   fg   fga    fgp  ...  \\\n",
       "0       Jaylen Adams  PG   22  ATL    34   1  12.6  1.1   3.2  0.345  ...   \n",
       "1       Steven Adams   C   25  OKC    80  80  33.4  6.0  10.1  0.595  ...   \n",
       "2        Bam Adebayo   C   21  MIA    82  28  23.3  3.4   5.9  0.576  ...   \n",
       "3  LaMarcus Aldridge   C   33  SAS    81  81  33.2  8.4  16.3  0.519  ...   \n",
       "4      Grayson Allen  SG   23  UTA    38   2  10.9  1.8   4.7  0.376  ...   \n",
       "\n",
       "   orb  drb  trb  ast  stl  blk  tov   pf   pts     salary  \n",
       "0  0.3  1.4  1.8  1.9  0.4  0.1  0.8  1.3   3.2    100.000  \n",
       "1  4.9  4.6  9.5  1.6  1.5  1.0  1.7  2.6  13.9  25842.697  \n",
       "2  2.0  5.3  7.3  2.2  0.9  0.8  1.5  2.5   8.9   3454.080  \n",
       "3  3.1  6.1  9.2  2.4  0.5  1.3  1.8  2.2  21.3  26000.000  \n",
       "4  0.1  0.5  0.6  0.7  0.2  0.2  0.9  1.2   5.6   2429.400  \n",
       "\n",
       "[5 rows x 30 columns]"
      ]
     },
     "execution_count": 2,
     "metadata": {},
     "output_type": "execute_result"
    }
   ],
   "source": [
    "#Đọc dữ liệu lên\n",
    "df = pd.read_csv('player_salary.csv', sep = '\\t')\n",
    "df.head()"
   ]
  },
  {
   "cell_type": "code",
   "execution_count": 3,
   "metadata": {},
   "outputs": [
    {
     "name": "stdout",
     "output_type": "stream",
     "text": [
      "<class 'pandas.core.frame.DataFrame'>\n",
      "RangeIndex: 433 entries, 0 to 432\n",
      "Data columns (total 30 columns):\n",
      "name      433 non-null object\n",
      "pos       433 non-null object\n",
      "age       433 non-null int64\n",
      "team      433 non-null object\n",
      "game      433 non-null int64\n",
      "gs        433 non-null int64\n",
      "mp        433 non-null float64\n",
      "fg        433 non-null float64\n",
      "fga       433 non-null float64\n",
      "fgp       433 non-null float64\n",
      "3p        433 non-null float64\n",
      "3pa       433 non-null float64\n",
      "3pp       433 non-null float64\n",
      "2p        433 non-null float64\n",
      "2pa       433 non-null float64\n",
      "2pp       433 non-null float64\n",
      "efgp      433 non-null float64\n",
      "ft        433 non-null float64\n",
      "fta       433 non-null float64\n",
      "ftp       433 non-null float64\n",
      "orb       433 non-null float64\n",
      "drb       433 non-null float64\n",
      "trb       433 non-null float64\n",
      "ast       433 non-null float64\n",
      "stl       433 non-null float64\n",
      "blk       433 non-null float64\n",
      "tov       433 non-null float64\n",
      "pf        433 non-null float64\n",
      "pts       433 non-null float64\n",
      "salary    433 non-null float64\n",
      "dtypes: float64(24), int64(3), object(3)\n",
      "memory usage: 101.6+ KB\n"
     ]
    }
   ],
   "source": [
    "df.info()"
   ]
  },
  {
   "cell_type": "markdown",
   "metadata": {},
   "source": [
    "### Tách tập huấn luyện, tập validation, tập test"
   ]
  },
  {
   "cell_type": "code",
   "execution_count": 4,
   "metadata": {},
   "outputs": [],
   "source": [
    "X = df.drop('salary', axis=1)\n",
    "y = df['salary']"
   ]
  },
  {
   "cell_type": "code",
   "execution_count": 5,
   "metadata": {},
   "outputs": [],
   "source": [
    "# Tách tập train_val và tập test theo tỉ lệ 85-15\n",
    "X_train_val, X_test, y_train_val, y_test = train_test_split(X, y, test_size=0.15, random_state=1)"
   ]
  },
  {
   "cell_type": "code",
   "execution_count": 6,
   "metadata": {},
   "outputs": [],
   "source": [
    "# Tách tập train và tập validaion theo tỉ lệ 80-20\n",
    "X_train, X_val, y_train, y_val = train_test_split(X_train_val, y_train_val, test_size=0.2, random_state=1)"
   ]
  },
  {
   "cell_type": "markdown",
   "metadata": {},
   "source": [
    "## Tiền xử lý tập huấn luyện"
   ]
  },
  {
   "cell_type": "markdown",
   "metadata": {},
   "source": [
    "Quan sát cột lương và tuổi của tập huấn luyện"
   ]
  },
  {
   "cell_type": "code",
   "execution_count": 7,
   "metadata": {},
   "outputs": [
    {
     "data": {
      "text/html": [
       "<div>\n",
       "<style scoped>\n",
       "    .dataframe tbody tr th:only-of-type {\n",
       "        vertical-align: middle;\n",
       "    }\n",
       "\n",
       "    .dataframe tbody tr th {\n",
       "        vertical-align: top;\n",
       "    }\n",
       "\n",
       "    .dataframe thead th {\n",
       "        text-align: right;\n",
       "    }\n",
       "</style>\n",
       "<table border=\"1\" class=\"dataframe\">\n",
       "  <thead>\n",
       "    <tr style=\"text-align: right;\">\n",
       "      <th></th>\n",
       "      <th>name</th>\n",
       "      <th>pos</th>\n",
       "      <th>age</th>\n",
       "      <th>team</th>\n",
       "      <th>game</th>\n",
       "      <th>gs</th>\n",
       "      <th>mp</th>\n",
       "      <th>fg</th>\n",
       "      <th>fga</th>\n",
       "      <th>fgp</th>\n",
       "      <th>...</th>\n",
       "      <th>orb</th>\n",
       "      <th>drb</th>\n",
       "      <th>trb</th>\n",
       "      <th>ast</th>\n",
       "      <th>stl</th>\n",
       "      <th>blk</th>\n",
       "      <th>tov</th>\n",
       "      <th>pf</th>\n",
       "      <th>pts</th>\n",
       "      <th>salary</th>\n",
       "    </tr>\n",
       "  </thead>\n",
       "  <tbody>\n",
       "    <tr>\n",
       "      <td>332</td>\n",
       "      <td>Jakob Pöltl</td>\n",
       "      <td>C</td>\n",
       "      <td>23</td>\n",
       "      <td>SAS</td>\n",
       "      <td>77</td>\n",
       "      <td>24</td>\n",
       "      <td>16.5</td>\n",
       "      <td>2.4</td>\n",
       "      <td>3.8</td>\n",
       "      <td>0.645</td>\n",
       "      <td>...</td>\n",
       "      <td>2.3</td>\n",
       "      <td>3.0</td>\n",
       "      <td>5.3</td>\n",
       "      <td>1.2</td>\n",
       "      <td>0.4</td>\n",
       "      <td>0.9</td>\n",
       "      <td>0.6</td>\n",
       "      <td>1.6</td>\n",
       "      <td>5.5</td>\n",
       "      <td>3754.885</td>\n",
       "    </tr>\n",
       "    <tr>\n",
       "      <td>266</td>\n",
       "      <td>Frank Mason</td>\n",
       "      <td>PG</td>\n",
       "      <td>24</td>\n",
       "      <td>SAC</td>\n",
       "      <td>38</td>\n",
       "      <td>0</td>\n",
       "      <td>11.4</td>\n",
       "      <td>1.9</td>\n",
       "      <td>4.4</td>\n",
       "      <td>0.420</td>\n",
       "      <td>...</td>\n",
       "      <td>0.2</td>\n",
       "      <td>1.0</td>\n",
       "      <td>1.1</td>\n",
       "      <td>2.2</td>\n",
       "      <td>0.4</td>\n",
       "      <td>0.1</td>\n",
       "      <td>0.9</td>\n",
       "      <td>0.9</td>\n",
       "      <td>5.1</td>\n",
       "      <td>79.568</td>\n",
       "    </tr>\n",
       "    <tr>\n",
       "      <td>309</td>\n",
       "      <td>Frank Ntilikina</td>\n",
       "      <td>PG</td>\n",
       "      <td>20</td>\n",
       "      <td>NYK</td>\n",
       "      <td>43</td>\n",
       "      <td>16</td>\n",
       "      <td>21.0</td>\n",
       "      <td>2.2</td>\n",
       "      <td>6.6</td>\n",
       "      <td>0.337</td>\n",
       "      <td>...</td>\n",
       "      <td>0.3</td>\n",
       "      <td>1.7</td>\n",
       "      <td>2.0</td>\n",
       "      <td>2.8</td>\n",
       "      <td>0.7</td>\n",
       "      <td>0.3</td>\n",
       "      <td>1.3</td>\n",
       "      <td>2.4</td>\n",
       "      <td>5.7</td>\n",
       "      <td>4855.800</td>\n",
       "    </tr>\n",
       "    <tr>\n",
       "      <td>226</td>\n",
       "      <td>Enes Kanter</td>\n",
       "      <td>C</td>\n",
       "      <td>26</td>\n",
       "      <td>POR</td>\n",
       "      <td>67</td>\n",
       "      <td>31</td>\n",
       "      <td>24.5</td>\n",
       "      <td>5.6</td>\n",
       "      <td>10.2</td>\n",
       "      <td>0.549</td>\n",
       "      <td>...</td>\n",
       "      <td>3.8</td>\n",
       "      <td>6.0</td>\n",
       "      <td>9.8</td>\n",
       "      <td>1.7</td>\n",
       "      <td>0.5</td>\n",
       "      <td>0.4</td>\n",
       "      <td>1.8</td>\n",
       "      <td>2.5</td>\n",
       "      <td>13.7</td>\n",
       "      <td>4767.000</td>\n",
       "    </tr>\n",
       "    <tr>\n",
       "      <td>235</td>\n",
       "      <td>Rodions Kurucs</td>\n",
       "      <td>SF</td>\n",
       "      <td>20</td>\n",
       "      <td>BRK</td>\n",
       "      <td>63</td>\n",
       "      <td>46</td>\n",
       "      <td>20.5</td>\n",
       "      <td>3.2</td>\n",
       "      <td>7.1</td>\n",
       "      <td>0.450</td>\n",
       "      <td>...</td>\n",
       "      <td>0.9</td>\n",
       "      <td>3.0</td>\n",
       "      <td>3.9</td>\n",
       "      <td>0.8</td>\n",
       "      <td>0.7</td>\n",
       "      <td>0.4</td>\n",
       "      <td>1.2</td>\n",
       "      <td>2.3</td>\n",
       "      <td>8.5</td>\n",
       "      <td>1699.236</td>\n",
       "    </tr>\n",
       "  </tbody>\n",
       "</table>\n",
       "<p>5 rows × 30 columns</p>\n",
       "</div>"
      ],
      "text/plain": [
       "                name pos  age team  game  gs    mp   fg   fga    fgp  ...  \\\n",
       "332      Jakob Pöltl   C   23  SAS    77  24  16.5  2.4   3.8  0.645  ...   \n",
       "266      Frank Mason  PG   24  SAC    38   0  11.4  1.9   4.4  0.420  ...   \n",
       "309  Frank Ntilikina  PG   20  NYK    43  16  21.0  2.2   6.6  0.337  ...   \n",
       "226      Enes Kanter   C   26  POR    67  31  24.5  5.6  10.2  0.549  ...   \n",
       "235   Rodions Kurucs  SF   20  BRK    63  46  20.5  3.2   7.1  0.450  ...   \n",
       "\n",
       "     orb  drb  trb  ast  stl  blk  tov   pf   pts    salary  \n",
       "332  2.3  3.0  5.3  1.2  0.4  0.9  0.6  1.6   5.5  3754.885  \n",
       "266  0.2  1.0  1.1  2.2  0.4  0.1  0.9  0.9   5.1    79.568  \n",
       "309  0.3  1.7  2.0  2.8  0.7  0.3  1.3  2.4   5.7  4855.800  \n",
       "226  3.8  6.0  9.8  1.7  0.5  0.4  1.8  2.5  13.7  4767.000  \n",
       "235  0.9  3.0  3.9  0.8  0.7  0.4  1.2  2.3   8.5  1699.236  \n",
       "\n",
       "[5 rows x 30 columns]"
      ]
     },
     "execution_count": 7,
     "metadata": {},
     "output_type": "execute_result"
    }
   ],
   "source": [
    "df_concat = pd.concat([X_train, y_train], axis=1)\n",
    "df_concat.head()"
   ]
  },
  {
   "cell_type": "code",
   "execution_count": 8,
   "metadata": {},
   "outputs": [
    {
     "data": {
      "text/plain": [
       "<matplotlib.axes._subplots.AxesSubplot at 0x1d29a1425c8>"
      ]
     },
     "execution_count": 8,
     "metadata": {},
     "output_type": "execute_result"
    },
    {
     "data": {
      "image/png": "[encoded data removed]",
      "text/plain": [
       "<Figure size 1440x720 with 1 Axes>"
      ]
     },
     "metadata": {
      "needs_background": "light"
     },
     "output_type": "display_data"
    }
   ],
   "source": [
    "df_concat.groupby('age').mean()['salary'].plot.bar(x='age', y='salary', figsize=(20,10))"
   ]
  },
  {
   "cell_type": "markdown",
   "metadata": {},
   "source": [
    "Từ đồ thị trên ta thấy được `salary` của tuyển thủ phân hóa theo `age` nên ta sẽ chia `age` thành 3 loại chính <br/>(vì nếu tiếp tục để ở dạng `float64` thì rất khó để mô hình đặt trọng số):\n",
    "- Young (mặc định <25)\n",
    "- Prime (mặc định >=25 and <=30)\n",
    "- Old   (mặc định >30)"
   ]
  },
  {
   "cell_type": "code",
   "execution_count": 9,
   "metadata": {
    "scrolled": true
   },
   "outputs": [
    {
     "data": {
      "text/html": [
       "<div>\n",
       "<style scoped>\n",
       "    .dataframe tbody tr th:only-of-type {\n",
       "        vertical-align: middle;\n",
       "    }\n",
       "\n",
       "    .dataframe tbody tr th {\n",
       "        vertical-align: top;\n",
       "    }\n",
       "\n",
       "    .dataframe thead th {\n",
       "        text-align: right;\n",
       "    }\n",
       "</style>\n",
       "<table border=\"1\" class=\"dataframe\">\n",
       "  <thead>\n",
       "    <tr style=\"text-align: right;\">\n",
       "      <th></th>\n",
       "      <th>name</th>\n",
       "      <th>age</th>\n",
       "      <th>team</th>\n",
       "      <th>game</th>\n",
       "      <th>gs</th>\n",
       "      <th>mp</th>\n",
       "      <th>fg</th>\n",
       "      <th>fga</th>\n",
       "      <th>fgp</th>\n",
       "      <th>3p</th>\n",
       "      <th>...</th>\n",
       "      <th>orb</th>\n",
       "      <th>drb</th>\n",
       "      <th>trb</th>\n",
       "      <th>ast</th>\n",
       "      <th>stl</th>\n",
       "      <th>blk</th>\n",
       "      <th>tov</th>\n",
       "      <th>pf</th>\n",
       "      <th>pts</th>\n",
       "      <th>salary</th>\n",
       "    </tr>\n",
       "    <tr>\n",
       "      <th>pos</th>\n",
       "      <th></th>\n",
       "      <th></th>\n",
       "      <th></th>\n",
       "      <th></th>\n",
       "      <th></th>\n",
       "      <th></th>\n",
       "      <th></th>\n",
       "      <th></th>\n",
       "      <th></th>\n",
       "      <th></th>\n",
       "      <th></th>\n",
       "      <th></th>\n",
       "      <th></th>\n",
       "      <th></th>\n",
       "      <th></th>\n",
       "      <th></th>\n",
       "      <th></th>\n",
       "      <th></th>\n",
       "      <th></th>\n",
       "      <th></th>\n",
       "      <th></th>\n",
       "    </tr>\n",
       "  </thead>\n",
       "  <tbody>\n",
       "    <tr>\n",
       "      <td>C</td>\n",
       "      <td>79</td>\n",
       "      <td>79</td>\n",
       "      <td>79</td>\n",
       "      <td>79</td>\n",
       "      <td>79</td>\n",
       "      <td>79</td>\n",
       "      <td>79</td>\n",
       "      <td>79</td>\n",
       "      <td>79</td>\n",
       "      <td>79</td>\n",
       "      <td>...</td>\n",
       "      <td>79</td>\n",
       "      <td>79</td>\n",
       "      <td>79</td>\n",
       "      <td>79</td>\n",
       "      <td>79</td>\n",
       "      <td>79</td>\n",
       "      <td>79</td>\n",
       "      <td>79</td>\n",
       "      <td>79</td>\n",
       "      <td>79</td>\n",
       "    </tr>\n",
       "    <tr>\n",
       "      <td>C-PF</td>\n",
       "      <td>1</td>\n",
       "      <td>1</td>\n",
       "      <td>1</td>\n",
       "      <td>1</td>\n",
       "      <td>1</td>\n",
       "      <td>1</td>\n",
       "      <td>1</td>\n",
       "      <td>1</td>\n",
       "      <td>1</td>\n",
       "      <td>1</td>\n",
       "      <td>...</td>\n",
       "      <td>1</td>\n",
       "      <td>1</td>\n",
       "      <td>1</td>\n",
       "      <td>1</td>\n",
       "      <td>1</td>\n",
       "      <td>1</td>\n",
       "      <td>1</td>\n",
       "      <td>1</td>\n",
       "      <td>1</td>\n",
       "      <td>1</td>\n",
       "    </tr>\n",
       "    <tr>\n",
       "      <td>PF</td>\n",
       "      <td>87</td>\n",
       "      <td>87</td>\n",
       "      <td>87</td>\n",
       "      <td>87</td>\n",
       "      <td>87</td>\n",
       "      <td>87</td>\n",
       "      <td>87</td>\n",
       "      <td>87</td>\n",
       "      <td>87</td>\n",
       "      <td>87</td>\n",
       "      <td>...</td>\n",
       "      <td>87</td>\n",
       "      <td>87</td>\n",
       "      <td>87</td>\n",
       "      <td>87</td>\n",
       "      <td>87</td>\n",
       "      <td>87</td>\n",
       "      <td>87</td>\n",
       "      <td>87</td>\n",
       "      <td>87</td>\n",
       "      <td>87</td>\n",
       "    </tr>\n",
       "    <tr>\n",
       "      <td>PF-SF</td>\n",
       "      <td>2</td>\n",
       "      <td>2</td>\n",
       "      <td>2</td>\n",
       "      <td>2</td>\n",
       "      <td>2</td>\n",
       "      <td>2</td>\n",
       "      <td>2</td>\n",
       "      <td>2</td>\n",
       "      <td>2</td>\n",
       "      <td>2</td>\n",
       "      <td>...</td>\n",
       "      <td>2</td>\n",
       "      <td>2</td>\n",
       "      <td>2</td>\n",
       "      <td>2</td>\n",
       "      <td>2</td>\n",
       "      <td>2</td>\n",
       "      <td>2</td>\n",
       "      <td>2</td>\n",
       "      <td>2</td>\n",
       "      <td>2</td>\n",
       "    </tr>\n",
       "    <tr>\n",
       "      <td>PG</td>\n",
       "      <td>87</td>\n",
       "      <td>87</td>\n",
       "      <td>87</td>\n",
       "      <td>87</td>\n",
       "      <td>87</td>\n",
       "      <td>87</td>\n",
       "      <td>87</td>\n",
       "      <td>87</td>\n",
       "      <td>87</td>\n",
       "      <td>87</td>\n",
       "      <td>...</td>\n",
       "      <td>87</td>\n",
       "      <td>87</td>\n",
       "      <td>87</td>\n",
       "      <td>87</td>\n",
       "      <td>87</td>\n",
       "      <td>87</td>\n",
       "      <td>87</td>\n",
       "      <td>87</td>\n",
       "      <td>87</td>\n",
       "      <td>87</td>\n",
       "    </tr>\n",
       "    <tr>\n",
       "      <td>SF</td>\n",
       "      <td>68</td>\n",
       "      <td>68</td>\n",
       "      <td>68</td>\n",
       "      <td>68</td>\n",
       "      <td>68</td>\n",
       "      <td>68</td>\n",
       "      <td>68</td>\n",
       "      <td>68</td>\n",
       "      <td>68</td>\n",
       "      <td>68</td>\n",
       "      <td>...</td>\n",
       "      <td>68</td>\n",
       "      <td>68</td>\n",
       "      <td>68</td>\n",
       "      <td>68</td>\n",
       "      <td>68</td>\n",
       "      <td>68</td>\n",
       "      <td>68</td>\n",
       "      <td>68</td>\n",
       "      <td>68</td>\n",
       "      <td>68</td>\n",
       "    </tr>\n",
       "    <tr>\n",
       "      <td>SF-SG</td>\n",
       "      <td>2</td>\n",
       "      <td>2</td>\n",
       "      <td>2</td>\n",
       "      <td>2</td>\n",
       "      <td>2</td>\n",
       "      <td>2</td>\n",
       "      <td>2</td>\n",
       "      <td>2</td>\n",
       "      <td>2</td>\n",
       "      <td>2</td>\n",
       "      <td>...</td>\n",
       "      <td>2</td>\n",
       "      <td>2</td>\n",
       "      <td>2</td>\n",
       "      <td>2</td>\n",
       "      <td>2</td>\n",
       "      <td>2</td>\n",
       "      <td>2</td>\n",
       "      <td>2</td>\n",
       "      <td>2</td>\n",
       "      <td>2</td>\n",
       "    </tr>\n",
       "    <tr>\n",
       "      <td>SG</td>\n",
       "      <td>105</td>\n",
       "      <td>105</td>\n",
       "      <td>105</td>\n",
       "      <td>105</td>\n",
       "      <td>105</td>\n",
       "      <td>105</td>\n",
       "      <td>105</td>\n",
       "      <td>105</td>\n",
       "      <td>105</td>\n",
       "      <td>105</td>\n",
       "      <td>...</td>\n",
       "      <td>105</td>\n",
       "      <td>105</td>\n",
       "      <td>105</td>\n",
       "      <td>105</td>\n",
       "      <td>105</td>\n",
       "      <td>105</td>\n",
       "      <td>105</td>\n",
       "      <td>105</td>\n",
       "      <td>105</td>\n",
       "      <td>105</td>\n",
       "    </tr>\n",
       "    <tr>\n",
       "      <td>SG-PF</td>\n",
       "      <td>1</td>\n",
       "      <td>1</td>\n",
       "      <td>1</td>\n",
       "      <td>1</td>\n",
       "      <td>1</td>\n",
       "      <td>1</td>\n",
       "      <td>1</td>\n",
       "      <td>1</td>\n",
       "      <td>1</td>\n",
       "      <td>1</td>\n",
       "      <td>...</td>\n",
       "      <td>1</td>\n",
       "      <td>1</td>\n",
       "      <td>1</td>\n",
       "      <td>1</td>\n",
       "      <td>1</td>\n",
       "      <td>1</td>\n",
       "      <td>1</td>\n",
       "      <td>1</td>\n",
       "      <td>1</td>\n",
       "      <td>1</td>\n",
       "    </tr>\n",
       "    <tr>\n",
       "      <td>SG-SF</td>\n",
       "      <td>1</td>\n",
       "      <td>1</td>\n",
       "      <td>1</td>\n",
       "      <td>1</td>\n",
       "      <td>1</td>\n",
       "      <td>1</td>\n",
       "      <td>1</td>\n",
       "      <td>1</td>\n",
       "      <td>1</td>\n",
       "      <td>1</td>\n",
       "      <td>...</td>\n",
       "      <td>1</td>\n",
       "      <td>1</td>\n",
       "      <td>1</td>\n",
       "      <td>1</td>\n",
       "      <td>1</td>\n",
       "      <td>1</td>\n",
       "      <td>1</td>\n",
       "      <td>1</td>\n",
       "      <td>1</td>\n",
       "      <td>1</td>\n",
       "    </tr>\n",
       "  </tbody>\n",
       "</table>\n",
       "<p>10 rows × 29 columns</p>\n",
       "</div>"
      ],
      "text/plain": [
       "       name  age  team  game   gs   mp   fg  fga  fgp   3p  ...  orb  drb  \\\n",
       "pos                                                         ...             \n",
       "C        79   79    79    79   79   79   79   79   79   79  ...   79   79   \n",
       "C-PF      1    1     1     1    1    1    1    1    1    1  ...    1    1   \n",
       "PF       87   87    87    87   87   87   87   87   87   87  ...   87   87   \n",
       "PF-SF     2    2     2     2    2    2    2    2    2    2  ...    2    2   \n",
       "PG       87   87    87    87   87   87   87   87   87   87  ...   87   87   \n",
       "SF       68   68    68    68   68   68   68   68   68   68  ...   68   68   \n",
       "SF-SG     2    2     2     2    2    2    2    2    2    2  ...    2    2   \n",
       "SG      105  105   105   105  105  105  105  105  105  105  ...  105  105   \n",
       "SG-PF     1    1     1     1    1    1    1    1    1    1  ...    1    1   \n",
       "SG-SF     1    1     1     1    1    1    1    1    1    1  ...    1    1   \n",
       "\n",
       "       trb  ast  stl  blk  tov   pf  pts  salary  \n",
       "pos                                               \n",
       "C       79   79   79   79   79   79   79      79  \n",
       "C-PF     1    1    1    1    1    1    1       1  \n",
       "PF      87   87   87   87   87   87   87      87  \n",
       "PF-SF    2    2    2    2    2    2    2       2  \n",
       "PG      87   87   87   87   87   87   87      87  \n",
       "SF      68   68   68   68   68   68   68      68  \n",
       "SF-SG    2    2    2    2    2    2    2       2  \n",
       "SG     105  105  105  105  105  105  105     105  \n",
       "SG-PF    1    1    1    1    1    1    1       1  \n",
       "SG-SF    1    1    1    1    1    1    1       1  \n",
       "\n",
       "[10 rows x 29 columns]"
      ]
     },
     "execution_count": 9,
     "metadata": {},
     "output_type": "execute_result"
    }
   ],
   "source": [
    "df.groupby('pos').count()"
   ]
  },
  {
   "cell_type": "markdown",
   "metadata": {},
   "source": [
    "Có 1 số `pos` chỉ xuất hiện 1 đến 2 lần, nếu one-hot có thể dễ dẫn đến overfit nên những tuyển thủ chơi ở nhiều vị trí sẽ được chuyển thành vị trí đầu tiên."
   ]
  },
  {
   "cell_type": "markdown",
   "metadata": {},
   "source": [
    "Sau khi xem xét ý nghĩa của từng cột thì ta thấy được sự liên quan giữa các cột như: (`fg`, `fga`, `fgp`), (`3p`, `3pa`, `3pp`), (`2p`, `2pa`, `2pp`), (`ft`, `fta`, `ftp`).<br/>Những cột này có ý nghĩa gần giống nhau đó là `trung bình số bàn ghi được`, `trung bình số lần thử` (attempt) và `tỷ lệ thành công`.\n",
    "<br/>Do đó ta sẽ quan sát hệ số tương quan của từng cột với cột `salary`."
   ]
  },
  {
   "cell_type": "code",
   "execution_count": 10,
   "metadata": {},
   "outputs": [
    {
     "data": {
      "text/plain": [
       "age       0.300658\n",
       "game      0.347630\n",
       "gs        0.548352\n",
       "mp        0.584638\n",
       "fg        0.666768\n",
       "fga       0.653900\n",
       "fgp       0.161669\n",
       "3p        0.398066\n",
       "3pa       0.397588\n",
       "3pp       0.102803\n",
       "2p        0.619495\n",
       "2pa       0.631912\n",
       "2pp       0.116754\n",
       "efgp      0.152363\n",
       "ft        0.583913\n",
       "fta       0.577454\n",
       "ftp       0.214515\n",
       "orb       0.320452\n",
       "drb       0.535541\n",
       "trb       0.500450\n",
       "ast       0.500848\n",
       "stl       0.475304\n",
       "blk       0.317628\n",
       "tov       0.557271\n",
       "pf        0.347711\n",
       "pts       0.663251\n",
       "salary    1.000000\n",
       "Name: salary, dtype: float64"
      ]
     },
     "execution_count": 10,
     "metadata": {},
     "output_type": "execute_result"
    }
   ],
   "source": [
    "df.corr()['salary']"
   ]
  },
  {
   "cell_type": "markdown",
   "metadata": {},
   "source": [
    "Dựa theo bảng trên, nhóm quyết bỏ đi các cột có liên quan đến `tỷ lệ`."
   ]
  },
  {
   "cell_type": "markdown",
   "metadata": {},
   "source": [
    "Và việc cuối cùng phải làm là bỏ đi cột `name`"
   ]
  },
  {
   "cell_type": "code",
   "execution_count": 11,
   "metadata": {},
   "outputs": [],
   "source": [
    "#Hàm dùng để chuyển 2 vị trí thành 1\n",
    "def mainPos(text):\n",
    "    if '-' in text:\n",
    "        return text.split('-')[0]\n",
    "    return text"
   ]
  },
  {
   "cell_type": "code",
   "execution_count": 12,
   "metadata": {},
   "outputs": [],
   "source": [
    "class ColAdderDropper(BaseEstimator, TransformerMixin):\n",
    "    def __init__(self, young = 25, old = 30):\n",
    "        self.young = young\n",
    "        self.old = old\n",
    "        \n",
    "    def fit(self, X_df, y=None):\n",
    "        return self\n",
    "    \n",
    "    def transform(self, X_df, y=None):\n",
    "        df = X_df.copy()\n",
    "        df['pos'] = df['pos'].apply(mainPos)\n",
    "        df.loc[X_df['age'] < self.young, 'age'] = 'young'\n",
    "        df.loc[X_df['age'] > self.old, 'age'] = 'old'\n",
    "        df.loc[(X_df['age'] >= self.young) & (X_df['age'] <= self.old), 'age'] = 'prime'\n",
    "        df.drop(columns=['name', 'fgp', '3pp', '2pp', 'ftp', 'efgp'], inplace=True)\n",
    "        return df"
   ]
  },
  {
   "cell_type": "code",
   "execution_count": 13,
   "metadata": {},
   "outputs": [
    {
     "data": {
      "text/html": [
       "<div>\n",
       "<style scoped>\n",
       "    .dataframe tbody tr th:only-of-type {\n",
       "        vertical-align: middle;\n",
       "    }\n",
       "\n",
       "    .dataframe tbody tr th {\n",
       "        vertical-align: top;\n",
       "    }\n",
       "\n",
       "    .dataframe thead th {\n",
       "        text-align: right;\n",
       "    }\n",
       "</style>\n",
       "<table border=\"1\" class=\"dataframe\">\n",
       "  <thead>\n",
       "    <tr style=\"text-align: right;\">\n",
       "      <th></th>\n",
       "      <th>pos</th>\n",
       "      <th>age</th>\n",
       "      <th>team</th>\n",
       "      <th>game</th>\n",
       "      <th>gs</th>\n",
       "      <th>mp</th>\n",
       "      <th>fg</th>\n",
       "      <th>fga</th>\n",
       "      <th>3p</th>\n",
       "      <th>3pa</th>\n",
       "      <th>...</th>\n",
       "      <th>fta</th>\n",
       "      <th>orb</th>\n",
       "      <th>drb</th>\n",
       "      <th>trb</th>\n",
       "      <th>ast</th>\n",
       "      <th>stl</th>\n",
       "      <th>blk</th>\n",
       "      <th>tov</th>\n",
       "      <th>pf</th>\n",
       "      <th>pts</th>\n",
       "    </tr>\n",
       "  </thead>\n",
       "  <tbody>\n",
       "    <tr>\n",
       "      <td>332</td>\n",
       "      <td>C</td>\n",
       "      <td>young</td>\n",
       "      <td>SAS</td>\n",
       "      <td>77</td>\n",
       "      <td>24</td>\n",
       "      <td>16.5</td>\n",
       "      <td>2.4</td>\n",
       "      <td>3.8</td>\n",
       "      <td>0.0</td>\n",
       "      <td>0.0</td>\n",
       "      <td>...</td>\n",
       "      <td>1.2</td>\n",
       "      <td>2.3</td>\n",
       "      <td>3.0</td>\n",
       "      <td>5.3</td>\n",
       "      <td>1.2</td>\n",
       "      <td>0.4</td>\n",
       "      <td>0.9</td>\n",
       "      <td>0.6</td>\n",
       "      <td>1.6</td>\n",
       "      <td>5.5</td>\n",
       "    </tr>\n",
       "    <tr>\n",
       "      <td>266</td>\n",
       "      <td>PG</td>\n",
       "      <td>young</td>\n",
       "      <td>SAC</td>\n",
       "      <td>38</td>\n",
       "      <td>0</td>\n",
       "      <td>11.4</td>\n",
       "      <td>1.9</td>\n",
       "      <td>4.4</td>\n",
       "      <td>0.4</td>\n",
       "      <td>1.7</td>\n",
       "      <td>...</td>\n",
       "      <td>1.5</td>\n",
       "      <td>0.2</td>\n",
       "      <td>1.0</td>\n",
       "      <td>1.1</td>\n",
       "      <td>2.2</td>\n",
       "      <td>0.4</td>\n",
       "      <td>0.1</td>\n",
       "      <td>0.9</td>\n",
       "      <td>0.9</td>\n",
       "      <td>5.1</td>\n",
       "    </tr>\n",
       "    <tr>\n",
       "      <td>309</td>\n",
       "      <td>PG</td>\n",
       "      <td>young</td>\n",
       "      <td>NYK</td>\n",
       "      <td>43</td>\n",
       "      <td>16</td>\n",
       "      <td>21.0</td>\n",
       "      <td>2.2</td>\n",
       "      <td>6.6</td>\n",
       "      <td>0.8</td>\n",
       "      <td>2.7</td>\n",
       "      <td>...</td>\n",
       "      <td>0.7</td>\n",
       "      <td>0.3</td>\n",
       "      <td>1.7</td>\n",
       "      <td>2.0</td>\n",
       "      <td>2.8</td>\n",
       "      <td>0.7</td>\n",
       "      <td>0.3</td>\n",
       "      <td>1.3</td>\n",
       "      <td>2.4</td>\n",
       "      <td>5.7</td>\n",
       "    </tr>\n",
       "    <tr>\n",
       "      <td>226</td>\n",
       "      <td>C</td>\n",
       "      <td>prime</td>\n",
       "      <td>POR</td>\n",
       "      <td>67</td>\n",
       "      <td>31</td>\n",
       "      <td>24.5</td>\n",
       "      <td>5.6</td>\n",
       "      <td>10.2</td>\n",
       "      <td>0.1</td>\n",
       "      <td>0.5</td>\n",
       "      <td>...</td>\n",
       "      <td>2.9</td>\n",
       "      <td>3.8</td>\n",
       "      <td>6.0</td>\n",
       "      <td>9.8</td>\n",
       "      <td>1.7</td>\n",
       "      <td>0.5</td>\n",
       "      <td>0.4</td>\n",
       "      <td>1.8</td>\n",
       "      <td>2.5</td>\n",
       "      <td>13.7</td>\n",
       "    </tr>\n",
       "    <tr>\n",
       "      <td>235</td>\n",
       "      <td>SF</td>\n",
       "      <td>young</td>\n",
       "      <td>BRK</td>\n",
       "      <td>63</td>\n",
       "      <td>46</td>\n",
       "      <td>20.5</td>\n",
       "      <td>3.2</td>\n",
       "      <td>7.1</td>\n",
       "      <td>0.9</td>\n",
       "      <td>2.9</td>\n",
       "      <td>...</td>\n",
       "      <td>1.5</td>\n",
       "      <td>0.9</td>\n",
       "      <td>3.0</td>\n",
       "      <td>3.9</td>\n",
       "      <td>0.8</td>\n",
       "      <td>0.7</td>\n",
       "      <td>0.4</td>\n",
       "      <td>1.2</td>\n",
       "      <td>2.3</td>\n",
       "      <td>8.5</td>\n",
       "    </tr>\n",
       "  </tbody>\n",
       "</table>\n",
       "<p>5 rows × 23 columns</p>\n",
       "</div>"
      ],
      "text/plain": [
       "    pos    age team  game  gs    mp   fg   fga   3p  3pa  ...  fta  orb  drb  \\\n",
       "332   C  young  SAS    77  24  16.5  2.4   3.8  0.0  0.0  ...  1.2  2.3  3.0   \n",
       "266  PG  young  SAC    38   0  11.4  1.9   4.4  0.4  1.7  ...  1.5  0.2  1.0   \n",
       "309  PG  young  NYK    43  16  21.0  2.2   6.6  0.8  2.7  ...  0.7  0.3  1.7   \n",
       "226   C  prime  POR    67  31  24.5  5.6  10.2  0.1  0.5  ...  2.9  3.8  6.0   \n",
       "235  SF  young  BRK    63  46  20.5  3.2   7.1  0.9  2.9  ...  1.5  0.9  3.0   \n",
       "\n",
       "     trb  ast  stl  blk  tov   pf   pts  \n",
       "332  5.3  1.2  0.4  0.9  0.6  1.6   5.5  \n",
       "266  1.1  2.2  0.4  0.1  0.9  0.9   5.1  \n",
       "309  2.0  2.8  0.7  0.3  1.3  2.4   5.7  \n",
       "226  9.8  1.7  0.5  0.4  1.8  2.5  13.7  \n",
       "235  3.9  0.8  0.7  0.4  1.2  2.3   8.5  \n",
       "\n",
       "[5 rows x 23 columns]"
      ]
     },
     "execution_count": 13,
     "metadata": {},
     "output_type": "execute_result"
    }
   ],
   "source": [
    "#Test\n",
    "col_adderdropper = ColAdderDropper()\n",
    "test_df = col_adderdropper.transform(X_train)\n",
    "test_df.head()"
   ]
  },
  {
   "cell_type": "markdown",
   "metadata": {},
   "source": [
    "## Tạo Pipeline tiền xử lý giá trị số và giá trị category"
   ]
  },
  {
   "cell_type": "code",
   "execution_count": 14,
   "metadata": {},
   "outputs": [],
   "source": [
    "nume_cols = ['game', 'gs', 'mp', 'fg', 'fga', '3p', '3pa', '2p','2pa', 'ft', 'fta', \n",
    "             'orb', 'drb', 'trb', 'ast', 'stl', 'blk', 'tov', 'pf', 'pts']\n",
    "cate_cols = ['pos', 'age', 'team']\n",
    "\n",
    "numeric_transformer = Pipeline(steps=[\n",
    "    ('imputer', SimpleImputer(strategy='mean'))])\n",
    "\n",
    "categorical_transformer = Pipeline(steps=[\n",
    "    ('imputer', SimpleImputer(strategy='most_frequent', fill_value='missing')),\n",
    "    ('onehot', OneHotEncoder(handle_unknown='ignore'))])\n",
    "\n",
    "preprocessor = ColumnTransformer(\n",
    "    transformers=[\n",
    "        ('num', numeric_transformer, nume_cols),\n",
    "        ('cat', categorical_transformer, cate_cols)])\n",
    "\n",
    "preprocess_pipeline = Pipeline(steps=[\n",
    "    ('coladderdropper', ColAdderDropper()),\n",
    "    ('preprocess', preprocessor),\n",
    "    ('scaler', StandardScaler())])"
   ]
  },
  {
   "cell_type": "code",
   "execution_count": 15,
   "metadata": {},
   "outputs": [
    {
     "data": {
      "text/plain": [
       "array([ 0.94954145, -0.11359305, -0.52779781, -0.50733582, -0.8564853 ,\n",
       "       -1.20752745, -1.32987956, -0.07408734, -0.32047436, -0.67614962,\n",
       "       -0.46947248,  1.67774468, -0.03828337,  0.50850723, -0.48707267,\n",
       "       -0.65634411,  1.06998647, -0.69943615, -0.29647454, -0.658639  ,\n",
       "        2.18282063, -0.49041445, -0.4957446 , -0.48507125, -0.5694948 ,\n",
       "       -0.38527588, -0.83631451,  1.08525471, -0.17770466, -0.19715288,\n",
       "       -0.17770466, -0.15617376, -0.17770466, -0.18764666, -0.17770466,\n",
       "       -0.1672484 , -0.17770466, -0.18764666, -0.17770466, -0.17770466,\n",
       "       -0.18764666, -0.1672484 , -0.20628425, -0.17770466, -0.20628425,\n",
       "       -0.18764666, -0.18764666, -0.15617376, -0.19715288, -0.19715288,\n",
       "       -0.19715288, -0.19715288, -0.19715288, -0.20628425,  5.0722059 ,\n",
       "       -0.19715288, -0.18764666, -0.1672484 ])"
      ]
     },
     "execution_count": 15,
     "metadata": {},
     "output_type": "execute_result"
    }
   ],
   "source": [
    "#Test\n",
    "X_train_pre = preprocess_pipeline.fit_transform(X_train)\n",
    "X_train_pre[0]"
   ]
  },
  {
   "cell_type": "markdown",
   "metadata": {},
   "source": [
    "## Áp dụng thuật toán Linear và Random Forest Regression bằng Scikit "
   ]
  },
  {
   "cell_type": "markdown",
   "metadata": {},
   "source": [
    "### Linear Regression"
   ]
  },
  {
   "cell_type": "code",
   "execution_count": 16,
   "metadata": {},
   "outputs": [],
   "source": [
    "from sklearn.linear_model import LinearRegression\n",
    "linear_pipeline = Pipeline(steps=[\n",
    "    ('pre_pipeline', preprocess_pipeline),\n",
    "    ('linear_regression', LinearRegression())])"
   ]
  },
  {
   "cell_type": "code",
   "execution_count": 17,
   "metadata": {
    "scrolled": true
   },
   "outputs": [
    {
     "data": {
      "text/plain": [
       "0.6102312610290219"
      ]
     },
     "execution_count": 17,
     "metadata": {},
     "output_type": "execute_result"
    }
   ],
   "source": [
    "linear_pipeline.fit(X_train, y_train)\n",
    "y_pred = linear_pipeline.predict(X_val)\n",
    "linear_pipeline.score(X_train, y_train)"
   ]
  },
  {
   "cell_type": "code",
   "execution_count": 18,
   "metadata": {},
   "outputs": [
    {
     "data": {
      "text/plain": [
       "0.5537653600383116"
      ]
     },
     "execution_count": 18,
     "metadata": {},
     "output_type": "execute_result"
    }
   ],
   "source": [
    "linear_pipeline.score(X_val, y_val)"
   ]
  },
  {
   "cell_type": "markdown",
   "metadata": {},
   "source": [
    "#### r2_score khá thấp nên ta xem thử kết quả dự đoán ra là gì"
   ]
  },
  {
   "cell_type": "code",
   "execution_count": 19,
   "metadata": {},
   "outputs": [
    {
     "data": {
      "text/plain": [
       "array([-2719.61822548, -2431.61822548,  -543.61822548, -1007.61822548,\n",
       "       -1311.61822548, -1927.61822548,  -295.61822548, -2007.61822548,\n",
       "       -7883.61822548, -8327.61822548, -1539.61822548,  -583.61822548])"
      ]
     },
     "execution_count": 19,
     "metadata": {},
     "output_type": "execute_result"
    }
   ],
   "source": [
    "y_pred[y_pred < 0]"
   ]
  },
  {
   "cell_type": "markdown",
   "metadata": {},
   "source": [
    "#### Có 1 số tuyển thủ bị dự đoán mức lương âm, điều này là vô lý"
   ]
  },
  {
   "cell_type": "code",
   "execution_count": 20,
   "metadata": {},
   "outputs": [
    {
     "data": {
      "text/plain": [
       "170    2844.429\n",
       "396    1416.852\n",
       "385     898.310\n",
       "292      79.568\n",
       "79       50.000\n",
       "197    7000.000\n",
       "178     898.310\n",
       "346    3567.720\n",
       "146    2578.800\n",
       "378    2033.160\n",
       "401    2063.520\n",
       "121      79.568\n",
       "Name: salary, dtype: float64"
      ]
     },
     "execution_count": 20,
     "metadata": {},
     "output_type": "execute_result"
    }
   ],
   "source": [
    "#Mức lương thật sự\n",
    "y_val[y_pred < 0]"
   ]
  },
  {
   "cell_type": "markdown",
   "metadata": {},
   "source": [
    "Sau khi nhóm tìm hiểu thì đây hầu hết là tuyển thủ gặp chấn thương ở mùa giải đó, hoặc có điều khoản Loyalty trong hợp đồng (Sẽ được tăng lương theo năm, bất chấp phong độ)\n",
    "#### Nhóm giải quyết bằng cách dùng lương thấp nhất của bộ huấn luyện để thay vào "
   ]
  },
  {
   "cell_type": "code",
   "execution_count": 21,
   "metadata": {},
   "outputs": [],
   "source": [
    "def Negative2Min(y_pred, y_train):\n",
    "    y_pred_copy = y_pred.copy()\n",
    "    y_pred_copy[y_pred < 0] = y_train.min()\n",
    "    return y_pred_copy"
   ]
  },
  {
   "cell_type": "code",
   "execution_count": 22,
   "metadata": {},
   "outputs": [],
   "source": [
    "y_pred_2 = Negative2Min(y_pred, y_train)"
   ]
  },
  {
   "cell_type": "code",
   "execution_count": 23,
   "metadata": {},
   "outputs": [
    {
     "data": {
      "text/plain": [
       "0.6135603105292105"
      ]
     },
     "execution_count": 23,
     "metadata": {},
     "output_type": "execute_result"
    }
   ],
   "source": [
    "r2_score(y_val, y_pred_2)"
   ]
  },
  {
   "cell_type": "markdown",
   "metadata": {},
   "source": [
    "Có thể thấy r2_score đã được cải thiện"
   ]
  },
  {
   "cell_type": "markdown",
   "metadata": {},
   "source": [
    "### Random Forest Regressor"
   ]
  },
  {
   "cell_type": "code",
   "execution_count": 24,
   "metadata": {},
   "outputs": [],
   "source": [
    "from sklearn.ensemble import RandomForestRegressor\n",
    "rfr_pipeline = Pipeline(steps=[\n",
    "    ('pre_pipeline', preprocess_pipeline),\n",
    "    ('rf_regression', RandomForestRegressor(max_depth=7, random_state=11, n_estimators=100))])"
   ]
  },
  {
   "cell_type": "code",
   "execution_count": 25,
   "metadata": {},
   "outputs": [
    {
     "data": {
      "text/plain": [
       "0.8790271462964928"
      ]
     },
     "execution_count": 25,
     "metadata": {},
     "output_type": "execute_result"
    }
   ],
   "source": [
    "rfr_pipeline.fit(X_train, y_train)\n",
    "y_pred = rfr_pipeline.predict(X_test)\n",
    "rfr_pipeline.score(X_train, y_train)"
   ]
  },
  {
   "cell_type": "code",
   "execution_count": 26,
   "metadata": {},
   "outputs": [
    {
     "data": {
      "text/plain": [
       "0.5255071300421199"
      ]
     },
     "execution_count": 26,
     "metadata": {},
     "output_type": "execute_result"
    }
   ],
   "source": [
    "rfr_pipeline.score(X_val, y_val)"
   ]
  },
  {
   "cell_type": "markdown",
   "metadata": {},
   "source": [
    "### Áp dụng với tập test"
   ]
  },
  {
   "cell_type": "code",
   "execution_count": 27,
   "metadata": {},
   "outputs": [
    {
     "data": {
      "text/plain": [
       "0.2946185540150752"
      ]
     },
     "execution_count": 27,
     "metadata": {},
     "output_type": "execute_result"
    }
   ],
   "source": [
    "#Linear Regression\n",
    "linear_pipeline.score(X_test, y_test)"
   ]
  },
  {
   "cell_type": "code",
   "execution_count": 28,
   "metadata": {},
   "outputs": [
    {
     "data": {
      "text/plain": [
       "0.38930112483906765"
      ]
     },
     "execution_count": 28,
     "metadata": {},
     "output_type": "execute_result"
    }
   ],
   "source": [
    "#Randomforest Regression\n",
    "rfr_pipeline.score(X_test, y_test)"
   ]
  },
  {
   "cell_type": "code",
   "execution_count": null,
   "metadata": {},
   "outputs": [],
   "source": []
  }
 ],
 "metadata": {
  "kernelspec": {
   "display_name": "Python 3",
   "language": "python",
   "name": "python3"
  },
  "language_info": {
   "codemirror_mode": {
    "name": "ipython",
    "version": 3
   },
   "file_extension": ".py",
   "mimetype": "text/x-python",
   "name": "python",
   "nbconvert_exporter": "python",
   "pygments_lexer": "ipython3",
   "version": "3.7.4"
  }
 },
 "nbformat": 4,
 "nbformat_minor": 2
}
